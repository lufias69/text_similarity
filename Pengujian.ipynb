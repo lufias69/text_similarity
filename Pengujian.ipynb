{
 "cells": [
  {
   "cell_type": "markdown",
   "metadata": {},
   "source": [
    "# Pengujian"
   ]
  },
  {
   "cell_type": "code",
   "execution_count": 26,
   "metadata": {},
   "outputs": [],
   "source": [
    "import pandas as pd\n",
    "from sklearn.metrics import classification_report\n",
    "import numpy as np\n",
    "from sklearn.metrics import accuracy_score\n",
    "from sklearn.metrics import precision_recall_fscore_support"
   ]
  },
  {
   "cell_type": "code",
   "execution_count": 11,
   "metadata": {},
   "outputs": [],
   "source": [
    "list_data = 'dice_tf-idf jaccard_tf-idf cosine_tf-idf dice_tf-idf-df jaccard_tf-idf-df cosine_tf-idf-df dice_df jaccard_df cosine_df'\n",
    "list_data = list_data.split()"
   ]
  },
  {
   "cell_type": "code",
   "execution_count": null,
   "metadata": {},
   "outputs": [],
   "source": []
  },
  {
   "cell_type": "code",
   "execution_count": 49,
   "metadata": {
    "scrolled": false
   },
   "outputs": [
    {
     "data": {
      "text/html": [
       "<div>\n",
       "<style scoped>\n",
       "    .dataframe tbody tr th:only-of-type {\n",
       "        vertical-align: middle;\n",
       "    }\n",
       "\n",
       "    .dataframe tbody tr th {\n",
       "        vertical-align: top;\n",
       "    }\n",
       "\n",
       "    .dataframe thead th {\n",
       "        text-align: right;\n",
       "    }\n",
       "</style>\n",
       "<table border=\"1\" class=\"dataframe\">\n",
       "  <thead>\n",
       "    <tr style=\"text-align: right;\">\n",
       "      <th></th>\n",
       "      <th>metode</th>\n",
       "      <th>akurasi</th>\n",
       "      <th>precision</th>\n",
       "      <th>recall</th>\n",
       "      <th>f1_score</th>\n",
       "    </tr>\n",
       "  </thead>\n",
       "  <tbody>\n",
       "    <tr>\n",
       "      <th>0</th>\n",
       "      <td>dice_tf-idf</td>\n",
       "      <td>0.69</td>\n",
       "      <td>0.83666</td>\n",
       "      <td>0.74</td>\n",
       "      <td>0.774115</td>\n",
       "    </tr>\n",
       "    <tr>\n",
       "      <th>1</th>\n",
       "      <td>jaccard_tf-idf</td>\n",
       "      <td>0.69</td>\n",
       "      <td>0.83666</td>\n",
       "      <td>0.74</td>\n",
       "      <td>0.774115</td>\n",
       "    </tr>\n",
       "    <tr>\n",
       "      <th>2</th>\n",
       "      <td>cosine_tf-idf</td>\n",
       "      <td>0.69</td>\n",
       "      <td>0.83666</td>\n",
       "      <td>0.74</td>\n",
       "      <td>0.774115</td>\n",
       "    </tr>\n",
       "    <tr>\n",
       "      <th>3</th>\n",
       "      <td>dice_tf-idf-df</td>\n",
       "      <td>0.69</td>\n",
       "      <td>0.83666</td>\n",
       "      <td>0.74</td>\n",
       "      <td>0.774115</td>\n",
       "    </tr>\n",
       "    <tr>\n",
       "      <th>4</th>\n",
       "      <td>jaccard_tf-idf-df</td>\n",
       "      <td>0.69</td>\n",
       "      <td>0.83666</td>\n",
       "      <td>0.74</td>\n",
       "      <td>0.774115</td>\n",
       "    </tr>\n",
       "    <tr>\n",
       "      <th>5</th>\n",
       "      <td>cosine_tf-idf-df</td>\n",
       "      <td>0.69</td>\n",
       "      <td>0.83666</td>\n",
       "      <td>0.74</td>\n",
       "      <td>0.774115</td>\n",
       "    </tr>\n",
       "    <tr>\n",
       "      <th>6</th>\n",
       "      <td>dice_df</td>\n",
       "      <td>0.77</td>\n",
       "      <td>0.83666</td>\n",
       "      <td>0.74</td>\n",
       "      <td>0.774115</td>\n",
       "    </tr>\n",
       "    <tr>\n",
       "      <th>7</th>\n",
       "      <td>jaccard_df</td>\n",
       "      <td>0.69</td>\n",
       "      <td>0.83666</td>\n",
       "      <td>0.74</td>\n",
       "      <td>0.774115</td>\n",
       "    </tr>\n",
       "    <tr>\n",
       "      <th>8</th>\n",
       "      <td>cosine_df</td>\n",
       "      <td>0.74</td>\n",
       "      <td>0.83666</td>\n",
       "      <td>0.74</td>\n",
       "      <td>0.774115</td>\n",
       "    </tr>\n",
       "  </tbody>\n",
       "</table>\n",
       "</div>"
      ],
      "text/plain": [
       "              metode  akurasi  precision  recall  f1_score\n",
       "0        dice_tf-idf     0.69    0.83666    0.74  0.774115\n",
       "1     jaccard_tf-idf     0.69    0.83666    0.74  0.774115\n",
       "2      cosine_tf-idf     0.69    0.83666    0.74  0.774115\n",
       "3     dice_tf-idf-df     0.69    0.83666    0.74  0.774115\n",
       "4  jaccard_tf-idf-df     0.69    0.83666    0.74  0.774115\n",
       "5   cosine_tf-idf-df     0.69    0.83666    0.74  0.774115\n",
       "6            dice_df     0.77    0.83666    0.74  0.774115\n",
       "7         jaccard_df     0.69    0.83666    0.74  0.774115\n",
       "8          cosine_df     0.74    0.83666    0.74  0.774115"
      ]
     },
     "execution_count": 49,
     "metadata": {},
     "output_type": "execute_result"
    }
   ],
   "source": [
    "f = pd.read_excel(\"data/hasil_transform1.xlsx\", sheet_name = 'Sheet1')\n",
    "f2 = pd.read_excel(\"data/jawaban_hasil_evaluasi_ahli.xlsx\", sheet_name = 'Sheet2')#hasil asli\n",
    "\n",
    "y_true = f2['label'].tolist()\n",
    "target_names = ['sangat mirip', 'mirip', 'tidak mirip','sangat tidak mirip']\n",
    "metode = list()\n",
    "akurasi = list()\n",
    "precision = list()\n",
    "recall = list()\n",
    "f1_score = list()\n",
    "\n",
    "for i in list_data:\n",
    "    data = f[i].tolist()\n",
    "    y_pred = data\n",
    "    metode.append(i)\n",
    "    akurasi.append(accuracy_score(y_true, y_pred, normalize=True))\n",
    "    hasil = list(precision_recall_fscore_support(y_true, y_pred, average='weighted')) #weighted\n",
    "    precision = hasil[0]\n",
    "    recall = hasil[1]\n",
    "    f1_score = hasil[2]\n",
    "    \n",
    "dic2 = {\n",
    "    \"metode\":metode ,\n",
    "    \"akurasi\":akurasi,\n",
    "    \"precision\":precision,\n",
    "    \"recall\":recall,\n",
    "    \"f1_score\":f1_score,\n",
    "}\n",
    "df2 = pd.DataFrame.from_dict(dic2)\n",
    "df2"
   ]
  },
  {
   "cell_type": "code",
   "execution_count": 50,
   "metadata": {},
   "outputs": [],
   "source": [
    "df2.to_excel('hasil\\pengujian\\hasil_pengujian_update1.xlsx')"
   ]
  }
 ],
 "metadata": {
  "kernelspec": {
   "display_name": "Python 3",
   "language": "python",
   "name": "python3"
  },
  "language_info": {
   "codemirror_mode": {
    "name": "ipython",
    "version": 3
   },
   "file_extension": ".py",
   "mimetype": "text/x-python",
   "name": "python",
   "nbconvert_exporter": "python",
   "pygments_lexer": "ipython3",
   "version": "3.7.3"
  }
 },
 "nbformat": 4,
 "nbformat_minor": 2
}
